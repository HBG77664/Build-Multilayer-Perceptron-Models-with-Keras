{
 "cells": [
  {
   "cell_type": "markdown",
   "metadata": {
    "colab_type": "text",
    "id": "Q_TXpazmI4hi"
   },
   "source": [
    "<img align=center src=\"https://rhyme.com/assets/img/logo-dark.png\"></img>\n",
    "<h2 align=center> Multilayer Perceptron Models with Keras</h2>"
   ]
  },
  {
   "cell_type": "markdown",
   "metadata": {
    "colab_type": "text",
    "id": "FkDMtyFAI6eZ"
   },
   "source": [
    "## Task 1: Project Overview and Import Modules"
   ]
  },
  {
   "cell_type": "code",
   "execution_count": 42,
   "metadata": {
    "colab": {
     "base_uri": "https://localhost:8080/",
     "height": 52
    },
    "colab_type": "code",
    "id": "u-Q0ZQ81AJAD",
    "outputId": "0ac11ca4-84c6-46fa-d760-2ef8878009fe"
   },
   "outputs": [
    {
     "name": "stdout",
     "output_type": "stream",
     "text": [
      "Tensorflow version: 2.1.0\n"
     ]
    }
   ],
   "source": [
    "%matplotlib inline\n",
    "import matplotlib.pyplot as plt\n",
    "import numpy as np\n",
    "np.random.seed(0)\n",
    "import tensorflow as tf\n",
    "from tensorflow.keras.datasets import reuters\n",
    "from tensorflow.keras.models import Sequential\n",
    "from tensorflow.keras.layers import Dense, Dropout, Activation\n",
    "from tensorflow.keras.preprocessing.text import Tokenizer\n",
    "\n",
    "print('Tensorflow version:', tf.__version__)"
   ]
  },
  {
   "cell_type": "markdown",
   "metadata": {
    "colab_type": "text",
    "id": "O_87ArymJ_HP"
   },
   "source": [
    "## Task 2: Load the Reuters Dataset"
   ]
  },
  {
   "cell_type": "code",
   "execution_count": 43,
   "metadata": {
    "colab": {
     "base_uri": "https://localhost:8080/",
     "height": 52
    },
    "colab_type": "code",
    "id": "mvnfT5lcAJx1",
    "outputId": "57f550e0-0e81-46a3-87e7-63aa1736fb7d"
   },
   "outputs": [],
   "source": [
    "(X_train, y_train),(X_test,y_test) = reuters.load_data(num_words=10000, test_split=0.2)"
   ]
  },
  {
   "cell_type": "code",
   "execution_count": 44,
   "metadata": {
    "colab": {
     "base_uri": "https://localhost:8080/",
     "height": 52
    },
    "colab_type": "code",
    "id": "qiyU9CRPAJ1x",
    "outputId": "9b31a4f1-30ed-4fab-9966-11942690d3fb"
   },
   "outputs": [
    {
     "name": "stdout",
     "output_type": "stream",
     "text": [
      "8982 training examples\n",
      "2246 test examples\n"
     ]
    }
   ],
   "source": [
    "print(len(X_train), 'training examples')\n",
    "print(len(X_test), 'test examples')"
   ]
  },
  {
   "cell_type": "code",
   "execution_count": 49,
   "metadata": {
    "colab": {
     "base_uri": "https://localhost:8080/",
     "height": 34
    },
    "colab_type": "code",
    "id": "ga2yF0GDAJ4x",
    "outputId": "084a84e0-7e97-485c-99e6-2494e77897ea"
   },
   "outputs": [
    {
     "name": "stdout",
     "output_type": "stream",
     "text": [
      "46 classes\n"
     ]
    }
   ],
   "source": [
    "num_classes = np.max(y_train) + 1 \n",
    "print(num_classes, 'classes')"
   ]
  },
  {
   "cell_type": "markdown",
   "metadata": {
    "colab_type": "text",
    "id": "gxOfk01xO8M4"
   },
   "source": [
    "## Task 3: Vectorize Sequence Data and One-hot Encode Class Labels"
   ]
  },
  {
   "cell_type": "code",
   "execution_count": 46,
   "metadata": {
    "colab": {
     "base_uri": "https://localhost:8080/",
     "height": 69
    },
    "colab_type": "code",
    "id": "SwY0M11JAJ6z",
    "outputId": "898f7426-6c53-4903-8801-7ad8bb9b1c67"
   },
   "outputs": [
    {
     "data": {
      "text/plain": [
       "((8982, 10000), (2246, 10000))"
      ]
     },
     "execution_count": 46,
     "metadata": {},
     "output_type": "execute_result"
    }
   ],
   "source": [
    "tokenizer = Tokenizer(num_words=10000)\n",
    "X_train = tokenizer.sequences_to_matrix(X_train, mode ='binary')\n",
    "X_test = tokenizer.sequences_to_matrix(X_test, mode ='binary')\n",
    "X_train.shape, X_test.shape\n"
   ]
  },
  {
   "cell_type": "code",
   "execution_count": 50,
   "metadata": {
    "colab": {
     "base_uri": "https://localhost:8080/",
     "height": 69
    },
    "colab_type": "code",
    "id": "CqSLs8-MAJ-W",
    "outputId": "afbfdf1a-50c7-463e-8815-ce970dc009a7"
   },
   "outputs": [
    {
     "data": {
      "text/plain": [
       "((8982, 46), (2246, 46))"
      ]
     },
     "execution_count": 50,
     "metadata": {},
     "output_type": "execute_result"
    }
   ],
   "source": [
    "y_train = tf.keras.utils.to_categorical(y_train, num_classes)\n",
    "y_test = tf.keras.utils.to_categorical(y_test, num_classes)\n",
    "y_train.shape, y_test.shape"
   ]
  },
  {
   "cell_type": "markdown",
   "metadata": {
    "colab_type": "text",
    "id": "1qbdtF5MQBZW"
   },
   "source": [
    "## Task 4: Build Multilayer Perceptron Model"
   ]
  },
  {
   "cell_type": "code",
   "execution_count": 51,
   "metadata": {
    "colab": {},
    "colab_type": "code",
    "id": "kzaPJpw99KKt"
   },
   "outputs": [
    {
     "name": "stdout",
     "output_type": "stream",
     "text": [
      "Model: \"sequential\"\n",
      "_________________________________________________________________\n",
      "Layer (type)                 Output Shape              Param #   \n",
      "=================================================================\n",
      "dense_1 (Dense)              (None, 512)               5120512   \n",
      "_________________________________________________________________\n",
      "activation_1 (Activation)    (None, 512)               0         \n",
      "_________________________________________________________________\n",
      "dropout_1 (Dropout)          (None, 512)               0         \n",
      "_________________________________________________________________\n",
      "dense_2 (Dense)              (None, 46)                23598     \n",
      "_________________________________________________________________\n",
      "activation_2 (Activation)    (None, 46)                0         \n",
      "=================================================================\n",
      "Total params: 5,144,110\n",
      "Trainable params: 5,144,110\n",
      "Non-trainable params: 0\n",
      "_________________________________________________________________\n"
     ]
    }
   ],
   "source": [
    "model = Sequential([\n",
    "    Dense(512, input_shape=(10000,)),\n",
    "    Activation('relu'),\n",
    "    Dropout(0.5),\n",
    "    Dense(num_classes),\n",
    "    Activation('softmax')\n",
    "    \n",
    "])\n",
    "model.summary()"
   ]
  },
  {
   "cell_type": "markdown",
   "metadata": {
    "colab_type": "text",
    "id": "5-mKD7L2QKsJ"
   },
   "source": [
    "## Task 5: Train Model"
   ]
  },
  {
   "cell_type": "code",
   "execution_count": 52,
   "metadata": {
    "colab": {
     "base_uri": "https://localhost:8080/",
     "height": 52
    },
    "colab_type": "code",
    "id": "Bjf3XLC--B6Q",
    "outputId": "5f6714ae-6b6a-4464-b9fd-38f6ab7f77c4"
   },
   "outputs": [],
   "source": [
    "from tensorflow.keras.callbacks import EarlyStopping\n",
    "\n",
    "es = EarlyStopping(monitor='val_loss', patience=3, verbose=1, mode='min')\n",
    "\n",
    "model.compile(optimizer='adam',\n",
    "             loss='categorical_crossentropy',\n",
    "             metrics=['accuracy'])"
   ]
  },
  {
   "cell_type": "code",
   "execution_count": 58,
   "metadata": {
    "colab": {
     "base_uri": "https://localhost:8080/",
     "height": 208
    },
    "colab_type": "code",
    "id": "Y75bm-j7CKHJ",
    "outputId": "d32d3604-e5cb-4844-ee52-6551c251db5e"
   },
   "outputs": [
    {
     "name": "stdout",
     "output_type": "stream",
     "text": [
      "Train on 8083 samples, validate on 899 samples\n",
      "Epoch 1/100\n",
      "8083/8083 [==============================] - 11s 1ms/sample - loss: 1.2794 - accuracy: 0.7204 - val_loss: 0.9383 - val_accuracy: 0.7964\n",
      "Epoch 2/100\n",
      "8083/8083 [==============================] - 9s 1ms/sample - loss: 0.4984 - accuracy: 0.8877 - val_loss: 0.8365 - val_accuracy: 0.8131\n",
      "Epoch 3/100\n",
      "8083/8083 [==============================] - 9s 1ms/sample - loss: 0.2781 - accuracy: 0.9364 - val_loss: 0.8509 - val_accuracy: 0.8231\n",
      "Epoch 4/100\n",
      "8083/8083 [==============================] - 9s 1ms/sample - loss: 0.2154 - accuracy: 0.9498 - val_loss: 0.9413 - val_accuracy: 0.7998\n",
      "Epoch 5/100\n",
      "8083/8083 [==============================] - 8s 1ms/sample - loss: 0.1908 - accuracy: 0.9524 - val_loss: 0.9563 - val_accuracy: 0.8031\n",
      "Epoch 00005: early stopping\n"
     ]
    }
   ],
   "source": [
    "history = model.fit(X_train, y_train,\n",
    "                   epochs=100,\n",
    "                   batch_size=32,\n",
    "                   validation_split=0.1,\n",
    "                   callbacks = [es])"
   ]
  },
  {
   "cell_type": "markdown",
   "metadata": {
    "colab_type": "text",
    "id": "XNRw1etxQQqe"
   },
   "source": [
    "## Task 6: Evaluate Model on Test Data"
   ]
  },
  {
   "cell_type": "code",
   "execution_count": 54,
   "metadata": {
    "colab": {
     "base_uri": "https://localhost:8080/",
     "height": 69
    },
    "colab_type": "code",
    "id": "FdMOQHKiAKLI",
    "outputId": "4a313c45-4035-4918-92d5-25f71f21b83d"
   },
   "outputs": [
    {
     "name": "stdout",
     "output_type": "stream",
     "text": [
      "2246/2246 [==============================] - 6s 3ms/sample - loss: 3.8299 - accuracy: 0.0116\n"
     ]
    },
    {
     "data": {
      "text/plain": [
       "[3.8299342339737334, 0.011576136]"
      ]
     },
     "execution_count": 54,
     "metadata": {},
     "output_type": "execute_result"
    }
   ],
   "source": [
    "model.evaluate(X_test, y_test, batch_size=32, verbose=1)"
   ]
  },
  {
   "cell_type": "code",
   "execution_count": 66,
   "metadata": {
    "colab": {
     "base_uri": "https://localhost:8080/",
     "height": 295
    },
    "colab_type": "code",
    "id": "Qg3uXnvOAKNe",
    "outputId": "82bafe70-2338-4701-afe5-ef7852760e57"
   },
   "outputs": [
    {
     "data": {
      "image/png": "[encoded data removed]",
      "text/plain": [
       "<Figure size 432x288 with 1 Axes>"
      ]
     },
     "metadata": {
      "needs_background": "light"
     },
     "output_type": "display_data"
    }
   ],
   "source": [
    "plt.plot(history.history['loss'], label=\"Training loss\")\n",
    "plt.plot(history.history['val_loss'], label=\"Validation loss\")\n",
    "plt.title('Training and validation losss')\n",
    "plt.xlabel('Epochs')\n",
    "plt.ylabel('Loss')\n",
    "plt.legend()\n",
    "plt.show()"
   ]
  },
  {
   "cell_type": "code",
   "execution_count": 72,
   "metadata": {
    "colab": {
     "base_uri": "https://localhost:8080/",
     "height": 295
    },
    "colab_type": "code",
    "id": "eyM2tPyeAKRV",
    "outputId": "402ebf50-9d0a-433a-e5cb-c3b8c64ea9c1"
   },
   "outputs": [
    {
     "data": {
      "image/png": "[encoded data removed]",
      "text/plain": [
       "<Figure size 432x288 with 1 Axes>"
      ]
     },
     "metadata": {
      "needs_background": "light"
     },
     "output_type": "display_data"
    }
   ],
   "source": [
    "plt.plot(history.history['accuracy'], label=\"Training accuracy\")\n",
    "plt.plot(history.history['val_accuracy'], label=\"Validation accuracy\")\n",
    "plt.title('Training and validation accuracy')\n",
    "plt.xlabel('Epochs')\n",
    "plt.ylabel('accuracy')\n",
    "plt.legend()\n",
    "plt.show()"
   ]
  },
  {
   "cell_type": "code",
   "execution_count": null,
   "metadata": {
    "colab": {},
    "colab_type": "code",
    "id": "tGYwFMwmAK-L"
   },
   "outputs": [],
   "source": []
  },
  {
   "cell_type": "code",
   "execution_count": null,
   "metadata": {
    "colab": {},
    "colab_type": "code",
    "id": "lJQ4GSZKAKhX"
   },
   "outputs": [],
   "source": []
  }
 ],
 "metadata": {
  "colab": {
   "collapsed_sections": [],
   "name": "Topic_Classification.ipynb",
   "provenance": []
  },
  "kernelspec": {
   "display_name": "Python 3",
   "language": "python",
   "name": "python3"
  },
  "language_info": {
   "codemirror_mode": {
    "name": "ipython",
    "version": 3
   },
   "file_extension": ".py",
   "mimetype": "text/x-python",
   "name": "python",
   "nbconvert_exporter": "python",
   "pygments_lexer": "ipython3",
   "version": "3.6.9"
  }
 },
 "nbformat": 4,
 "nbformat_minor": 1
}
